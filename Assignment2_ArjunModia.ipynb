{
  "nbformat": 4,
  "nbformat_minor": 0,
  "metadata": {
    "colab": {
      "name": "Assignment2_ArjunModia.ipynb",
      "provenance": []
    },
    "kernelspec": {
      "name": "python3",
      "display_name": "Python 3"
    }
  },
  "cells": [
    {
      "cell_type": "markdown",
      "metadata": {
        "id": "uEGTL-LssnrN"
      },
      "source": [
        "**Question 1**\r\n",
        "\r\n",
        "You all are pilots, you have to land a plane, the altitude required for landing a plane is 1000ft, if itis less than that tell the pilot to land the plane, or it is more than that but less than 5000ft ask thepilot to \"come down to 1000ft\", else if it is more than 5000ft ask the pilot to \"go around and trylater\"\r\n",
        "\r\n",
        "Example: \r\n",
        "\r\n",
        "Input - 1000\r\n",
        "\r\n",
        "Output - Safe to land\r\n",
        "\r\n",
        "Example: \r\n",
        "\r\n",
        "Input - 4500\r\n",
        "\r\n",
        "Output - Bring down to 1000\r\n",
        "\r\n",
        "Example: \r\n",
        "\r\n",
        "Input 6500\r\n",
        "\r\n",
        "Output - Turn Around"
      ]
    },
    {
      "cell_type": "code",
      "metadata": {
        "colab": {
          "base_uri": "https://localhost:8080/"
        },
        "id": "OgQf-0tttUWR",
        "outputId": "eaad0373-4f0d-4daf-df02-75ba5ff3e698"
      },
      "source": [
        "alt = int(input('Please enter your current altitude in ft '))\r\n",
        "\r\n",
        "if alt <= 1000:\r\n",
        "  print('Safe to land')\r\n",
        "\r\n",
        "elif alt > 1000 and alt <= 5000:\r\n",
        "  print('Bring down to 1000')\r\n",
        "\r\n",
        "else:\r\n",
        "  print('Turn Around')"
      ],
      "execution_count": 21,
      "outputs": [
        {
          "output_type": "stream",
          "text": [
            "Please enter your current altitude in ft 1000\n",
            "Safe to land\n"
          ],
          "name": "stdout"
        }
      ]
    }
  ]
}