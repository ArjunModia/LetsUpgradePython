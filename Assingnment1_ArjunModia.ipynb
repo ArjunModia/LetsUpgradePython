{
  "nbformat": 4,
  "nbformat_minor": 0,
  "metadata": {
    "colab": {
      "name": "Assingnment1_ArjunModia.ipynb",
      "provenance": []
    },
    "kernelspec": {
      "name": "python3",
      "display_name": "Python 3"
    }
  },
  "cells": [
    {
      "cell_type": "markdown",
      "metadata": {
        "id": "ZdVoJsFNmpj8"
      },
      "source": [
        "**Question 1**\r\n",
        "\r\n",
        "Do ​Experiment with 5 List's In-built functions and post it to Github"
      ]
    },
    {
      "cell_type": "code",
      "metadata": {
        "id": "D-W5dhI1e1Yg"
      },
      "source": [
        "lst = [ \"alpha\", \"beta\", \"gamma\", \"alpha\", \"beta\"]"
      ],
      "execution_count": 52,
      "outputs": []
    },
    {
      "cell_type": "code",
      "metadata": {
        "colab": {
          "base_uri": "https://localhost:8080/"
        },
        "id": "O3QlSzz0fiD1",
        "outputId": "d608bbad-9059-4db9-a630-eb6ab714389a"
      },
      "source": [
        "x = lst.count(\"alpha\")\r\n",
        "\r\n",
        "print(x)"
      ],
      "execution_count": 53,
      "outputs": [
        {
          "output_type": "stream",
          "text": [
            "2\n"
          ],
          "name": "stdout"
        }
      ]
    },
    {
      "cell_type": "code",
      "metadata": {
        "colab": {
          "base_uri": "https://localhost:8080/"
        },
        "id": "R8izmvMPgFn_",
        "outputId": "cbcc6718-3962-4fc0-c553-b4a1eff16d27"
      },
      "source": [
        "print(lst.index(\"beta\"))"
      ],
      "execution_count": 54,
      "outputs": [
        {
          "output_type": "stream",
          "text": [
            "1\n"
          ],
          "name": "stdout"
        }
      ]
    },
    {
      "cell_type": "code",
      "metadata": {
        "colab": {
          "base_uri": "https://localhost:8080/"
        },
        "id": "d7h0tVyBljZC",
        "outputId": "c8c77d96-11dc-4d9c-9e68-3f15cb611775"
      },
      "source": [
        "lst.insert(3, \"delta\")\r\n",
        "\r\n",
        "print(lst)"
      ],
      "execution_count": 55,
      "outputs": [
        {
          "output_type": "stream",
          "text": [
            "['alpha', 'beta', 'gamma', 'delta', 'alpha', 'beta']\n"
          ],
          "name": "stdout"
        }
      ]
    },
    {
      "cell_type": "code",
      "metadata": {
        "colab": {
          "base_uri": "https://localhost:8080/"
        },
        "id": "CVyYVxOQlw9I",
        "outputId": "d36af87f-3ed1-4e7f-b596-744156f21a9d"
      },
      "source": [
        "lst.remove(\"delta\")\r\n",
        "\r\n",
        "print(lst)"
      ],
      "execution_count": 56,
      "outputs": [
        {
          "output_type": "stream",
          "text": [
            "['alpha', 'beta', 'gamma', 'alpha', 'beta']\n"
          ],
          "name": "stdout"
        }
      ]
    },
    {
      "cell_type": "code",
      "metadata": {
        "colab": {
          "base_uri": "https://localhost:8080/"
        },
        "id": "2HdXaBLZl-TK",
        "outputId": "bf60ce2b-7728-4d8b-8163-c5ab6897f122"
      },
      "source": [
        "lst.pop(4)\r\n",
        "\r\n",
        "print(lst)"
      ],
      "execution_count": 57,
      "outputs": [
        {
          "output_type": "stream",
          "text": [
            "['alpha', 'beta', 'gamma', 'alpha']\n"
          ],
          "name": "stdout"
        }
      ]
    },
    {
      "cell_type": "code",
      "metadata": {
        "colab": {
          "base_uri": "https://localhost:8080/"
        },
        "id": "wcgRNBcQrNJW",
        "outputId": "cf25df5e-2c0f-4901-d455-12a876287c7d"
      },
      "source": [
        "lst.append('theta')\r\n",
        "\r\n",
        "print(lst)"
      ],
      "execution_count": 58,
      "outputs": [
        {
          "output_type": "stream",
          "text": [
            "['alpha', 'beta', 'gamma', 'alpha', 'theta']\n"
          ],
          "name": "stdout"
        }
      ]
    },
    {
      "cell_type": "markdown",
      "metadata": {
        "id": "JBKM7a3Qm4er"
      },
      "source": [
        "**Question 2**\r\n",
        "\r\n",
        "Do Experiment with 5 Dictionary’s In-Built Functions, and post it to Github"
      ]
    },
    {
      "cell_type": "code",
      "metadata": {
        "id": "Dpb5VSRkm_OL"
      },
      "source": [
        "info = {\"name\" : \"Arjun\", \"age\" : 24, \"marks\" : 72, 4 : 7}"
      ],
      "execution_count": 59,
      "outputs": []
    },
    {
      "cell_type": "code",
      "metadata": {
        "colab": {
          "base_uri": "https://localhost:8080/"
        },
        "id": "3_uBDqv3n0_i",
        "outputId": "ee2dfbe6-dafd-40b4-dbe8-d1377280f5f0"
      },
      "source": [
        "print(info.get(\"name\"))"
      ],
      "execution_count": 60,
      "outputs": [
        {
          "output_type": "stream",
          "text": [
            "Arjun\n"
          ],
          "name": "stdout"
        }
      ]
    },
    {
      "cell_type": "code",
      "metadata": {
        "colab": {
          "base_uri": "https://localhost:8080/"
        },
        "id": "jprD2haJolZA",
        "outputId": "92eb813b-d8c2-4d16-958a-c2d16e734eb5"
      },
      "source": [
        "info.popitem()\r\n",
        "print(info)"
      ],
      "execution_count": 61,
      "outputs": [
        {
          "output_type": "stream",
          "text": [
            "{'name': 'Arjun', 'age': 24, 'marks': 72}\n"
          ],
          "name": "stdout"
        }
      ]
    },
    {
      "cell_type": "code",
      "metadata": {
        "colab": {
          "base_uri": "https://localhost:8080/"
        },
        "id": "CDIFcaIopIl1",
        "outputId": "ac3df669-2e7b-4948-ebdc-c2426432de42"
      },
      "source": [
        "info.pop(\"marks\")\r\n",
        "print(info)"
      ],
      "execution_count": 62,
      "outputs": [
        {
          "output_type": "stream",
          "text": [
            "{'name': 'Arjun', 'age': 24}\n"
          ],
          "name": "stdout"
        }
      ]
    },
    {
      "cell_type": "code",
      "metadata": {
        "colab": {
          "base_uri": "https://localhost:8080/"
        },
        "id": "QApZ4g07qCDJ",
        "outputId": "e7b48ec1-0e4e-47b4-ecca-59f77392e3df"
      },
      "source": [
        "info.values()"
      ],
      "execution_count": 63,
      "outputs": [
        {
          "output_type": "execute_result",
          "data": {
            "text/plain": [
              "dict_values(['Arjun', 24])"
            ]
          },
          "metadata": {
            "tags": []
          },
          "execution_count": 63
        }
      ]
    },
    {
      "cell_type": "code",
      "metadata": {
        "colab": {
          "base_uri": "https://localhost:8080/"
        },
        "id": "wYLZrjUnqZPU",
        "outputId": "bd93f691-76e6-450c-8a18-491b2cc8f173"
      },
      "source": [
        "info.items()"
      ],
      "execution_count": 64,
      "outputs": [
        {
          "output_type": "execute_result",
          "data": {
            "text/plain": [
              "dict_items([('name', 'Arjun'), ('age', 24)])"
            ]
          },
          "metadata": {
            "tags": []
          },
          "execution_count": 64
        }
      ]
    },
    {
      "cell_type": "code",
      "metadata": {
        "colab": {
          "base_uri": "https://localhost:8080/"
        },
        "id": "Msa4HcDfql6L",
        "outputId": "9a1f0d68-d748-4586-d3cc-b558a55860eb"
      },
      "source": [
        "info.keys()"
      ],
      "execution_count": 65,
      "outputs": [
        {
          "output_type": "execute_result",
          "data": {
            "text/plain": [
              "dict_keys(['name', 'age'])"
            ]
          },
          "metadata": {
            "tags": []
          },
          "execution_count": 65
        }
      ]
    }
  ]
}