{
  "nbformat": 4,
  "nbformat_minor": 0,
  "metadata": {
    "colab": {
      "name": "Day5MapFilterLamdaFun.ipynb",
      "provenance": []
    },
    "kernelspec": {
      "name": "python3",
      "display_name": "Python 3"
    }
  },
  "cells": [
    {
      "cell_type": "code",
      "metadata": {
        "id": "KYP0k0DbzzDc"
      },
      "source": [
        "def isEven(num):\r\n",
        "  if num%2 == 0:\r\n",
        "    return str(num) + \" is Even\"\r\n",
        "  else:\r\n",
        "    return str(num) + \" is Odd\""
      ],
      "execution_count": 31,
      "outputs": []
    },
    {
      "cell_type": "code",
      "metadata": {
        "colab": {
          "base_uri": "https://localhost:8080/",
          "height": 36
        },
        "id": "aBegM_Aj0te-",
        "outputId": "959264a9-4fc6-4229-bdc6-08bb68e99078"
      },
      "source": [
        "isEven(5)\r\n",
        "isEven(4)"
      ],
      "execution_count": 32,
      "outputs": [
        {
          "output_type": "execute_result",
          "data": {
            "application/vnd.google.colaboratory.intrinsic+json": {
              "type": "string"
            },
            "text/plain": [
              "'4 is Even'"
            ]
          },
          "metadata": {
            "tags": []
          },
          "execution_count": 32
        }
      ]
    },
    {
      "cell_type": "code",
      "metadata": {
        "id": "tepnIb9m1TsH"
      },
      "source": [
        "#Map\r\n",
        "\r\n",
        "lst = [1,2,3,4,5,6,7,8,9,10]"
      ],
      "execution_count": 33,
      "outputs": []
    },
    {
      "cell_type": "code",
      "metadata": {
        "colab": {
          "base_uri": "https://localhost:8080/"
        },
        "id": "byt75hC054Yx",
        "outputId": "028c0c26-4a39-470a-dd0e-21871ffd00da"
      },
      "source": [
        "#2nd way\r\n",
        "res_lstwithMap = map(isEven, lst)\r\n",
        "\r\n",
        "res_lst"
      ],
      "execution_count": 34,
      "outputs": [
        {
          "output_type": "execute_result",
          "data": {
            "text/plain": [
              "['1 is Odd',\n",
              " '2 is Even',\n",
              " '3 is Odd',\n",
              " '4 is Even',\n",
              " '5 is Odd',\n",
              " '6 is Even',\n",
              " '7 is Odd',\n",
              " '8 is Even',\n",
              " '9 is Odd',\n",
              " '10 is Even']"
            ]
          },
          "metadata": {
            "tags": []
          },
          "execution_count": 34
        }
      ]
    },
    {
      "cell_type": "code",
      "metadata": {
        "colab": {
          "base_uri": "https://localhost:8080/"
        },
        "id": "BrIkWICO0L0c",
        "outputId": "44e51b57-96df-485b-ec2f-099e7133e07a"
      },
      "source": [
        "#1st way\r\n",
        "res_lst = []\r\n",
        "for item in lst:\r\n",
        "  res_lst.append(isEven(item))\r\n",
        "\r\n",
        "print(res_lst)"
      ],
      "execution_count": 35,
      "outputs": [
        {
          "output_type": "stream",
          "text": [
            "['1 is Odd', '2 is Even', '3 is Odd', '4 is Even', '5 is Odd', '6 is Even', '7 is Odd', '8 is Even', '9 is Odd', '10 is Even']\n"
          ],
          "name": "stdout"
        }
      ]
    },
    {
      "cell_type": "code",
      "metadata": {
        "id": "Lj1vcqwj7Rzm"
      },
      "source": [
        "def isOdd(num):\r\n",
        "  if num%2 != 0:\r\n",
        "    return True\r\n",
        "  else:\r\n",
        "    return False"
      ],
      "execution_count": 36,
      "outputs": []
    },
    {
      "cell_type": "code",
      "metadata": {
        "colab": {
          "base_uri": "https://localhost:8080/"
        },
        "id": "o9DLuMQb7ukZ",
        "outputId": "781fd897-d833-4809-b0fe-55d9571df6bd"
      },
      "source": [
        "isOdd(6)"
      ],
      "execution_count": 37,
      "outputs": [
        {
          "output_type": "execute_result",
          "data": {
            "text/plain": [
              "False"
            ]
          },
          "metadata": {
            "tags": []
          },
          "execution_count": 37
        }
      ]
    },
    {
      "cell_type": "code",
      "metadata": {
        "id": "T4UuYVk67ye2"
      },
      "source": [
        "lst = [1,2,13,99,989,6,464,4649,1184,514,126]\r\n",
        "\r\n",
        "fltr_odd_lst = []"
      ],
      "execution_count": 38,
      "outputs": []
    },
    {
      "cell_type": "code",
      "metadata": {
        "colab": {
          "base_uri": "https://localhost:8080/"
        },
        "id": "ZoSLoFWDACBp",
        "outputId": "f9b0ea95-acdd-4d35-f3f3-78055d360307"
      },
      "source": [
        "#2nd way\r\n",
        "\r\n",
        "fltr_odd_lst = filter(isOdd, lst)\r\n",
        "\r\n",
        "list(fltr_odd_lst)\r\n",
        "\r\n",
        "fltr_odd_lst"
      ],
      "execution_count": 49,
      "outputs": [
        {
          "output_type": "execute_result",
          "data": {
            "text/plain": [
              "<filter at 0x7fd431f8f9e8>"
            ]
          },
          "metadata": {
            "tags": []
          },
          "execution_count": 49
        }
      ]
    },
    {
      "cell_type": "code",
      "metadata": {
        "colab": {
          "base_uri": "https://localhost:8080/"
        },
        "id": "5FLk-c0n8XWw",
        "outputId": "d6e38bcb-448f-4721-c60b-55d2bf3a0a7f"
      },
      "source": [
        "#1st way\r\n",
        "\r\n",
        "for item in lst:\r\n",
        "  if isOdd(item):\r\n",
        "    fltr_odd_lst.append(item)\r\n",
        "\r\n",
        "fltr_odd_lst"
      ],
      "execution_count": 39,
      "outputs": [
        {
          "output_type": "execute_result",
          "data": {
            "text/plain": [
              "[1, 13, 99, 989, 4649]"
            ]
          },
          "metadata": {
            "tags": []
          },
          "execution_count": 39
        }
      ]
    },
    {
      "cell_type": "code",
      "metadata": {
        "id": "GAPJbGkW-Msr"
      },
      "source": [
        "#Lamda Function\r\n",
        "\r\n",
        "def toPow6(num):\r\n",
        "  return num**6"
      ],
      "execution_count": 40,
      "outputs": []
    },
    {
      "cell_type": "code",
      "metadata": {
        "colab": {
          "base_uri": "https://localhost:8080/"
        },
        "id": "nLzqePSp-nU8",
        "outputId": "31a56e9b-5ca7-4014-83f2-e1ad95132a22"
      },
      "source": [
        "toPow6(2)"
      ],
      "execution_count": 41,
      "outputs": [
        {
          "output_type": "execute_result",
          "data": {
            "text/plain": [
              "64"
            ]
          },
          "metadata": {
            "tags": []
          },
          "execution_count": 41
        }
      ]
    },
    {
      "cell_type": "code",
      "metadata": {
        "colab": {
          "base_uri": "https://localhost:8080/"
        },
        "id": "JgR3rqeO_SpH",
        "outputId": "ac29450b-6e44-43e5-81ae-3542ca7ea3b1"
      },
      "source": [
        "toPow6 = lambda num : num**6\r\n",
        "\r\n",
        "toPow6(3)"
      ],
      "execution_count": 43,
      "outputs": [
        {
          "output_type": "execute_result",
          "data": {
            "text/plain": [
              "729"
            ]
          },
          "metadata": {
            "tags": []
          },
          "execution_count": 43
        }
      ]
    }
  ]
}