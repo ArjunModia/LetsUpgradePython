{
  "nbformat": 4,
  "nbformat_minor": 0,
  "metadata": {
    "colab": {
      "name": "Assignment1Day5.ipynb",
      "provenance": []
    },
    "kernelspec": {
      "name": "python3",
      "display_name": "Python 3"
    }
  },
  "cells": [
    {
      "cell_type": "markdown",
      "metadata": {
        "id": "DtUapdK7CeoF"
      },
      "source": [
        "**Assignment -1 (Day 5)**\r\n",
        "\r\n",
        "Write a Function in python to check wheter a number is prime or not"
      ]
    },
    {
      "cell_type": "code",
      "metadata": {
        "id": "D07lDsQ1Cy8K"
      },
      "source": [
        "def isPrime(num):\r\n",
        "  if num == 0 or num == 1:\r\n",
        "    x = str(num) + \" is a special number\"\r\n",
        "    print(x)\r\n",
        "  else:\r\n",
        "    for item in range (2,num//2 + 1):\r\n",
        "      if num%item != 0:\r\n",
        "        x = str(num) + \" is Prime number\"\r\n",
        "      else:\r\n",
        "        x = str(num) + \" is not a Prime number\"\r\n",
        "    print(x)      "
      ],
      "execution_count": 8,
      "outputs": []
    },
    {
      "cell_type": "code",
      "metadata": {
        "colab": {
          "base_uri": "https://localhost:8080/"
        },
        "id": "I4WArWm8E3-8",
        "outputId": "28eae049-37a0-45bf-94c9-e8b8d0757d51"
      },
      "source": [
        "isPrime(5)\r\n",
        "\r\n",
        "isPrime(10)\r\n",
        "\r\n",
        "isPrime(0)\r\n",
        "\r\n",
        "isPrime(1)"
      ],
      "execution_count": 9,
      "outputs": [
        {
          "output_type": "stream",
          "text": [
            "5 is Prime number\n",
            "10 is not a Prime number\n",
            "0 is a special number\n",
            "1 is a special number\n"
          ],
          "name": "stdout"
        }
      ]
    }
  ]
}